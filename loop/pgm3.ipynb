{
 "cells": [
  {
   "cell_type": "code",
   "execution_count": 1,
   "id": "10d4093d",
   "metadata": {},
   "outputs": [
    {
     "name": "stdout",
     "output_type": "stream",
     "text": [
      "Enter number : 20\n",
      "1\n",
      "3\n",
      "5\n",
      "7\n",
      "9\n",
      "11\n",
      "13\n",
      "15\n",
      "17\n",
      "19\n"
     ]
    }
   ],
   "source": [
    "#Find the first n odd numbers\n",
    "n=eval(input(\"Enter number : \"))\n",
    "for i in range(1,n,2):\n",
    "    print(i)\n",
    "    "
   ]
  },
  {
   "cell_type": "code",
   "execution_count": 1,
   "id": "20749ee0",
   "metadata": {},
   "outputs": [
    {
     "name": "stdout",
     "output_type": "stream",
     "text": [
      "Enter number : 1231\n",
      "1231  is not pallindrome\n"
     ]
    }
   ],
   "source": [
    "#Check whether a number is palindrome or not\n",
    "num=eval(input(\"Enter number : \"))\n",
    "a=num\n",
    "num2=0\n",
    "num1=0\n",
    "while(num>0):\n",
    "    num1=num%10\n",
    "    num=num//10\n",
    "    num2=num2*10+num1\n",
    "if(num2==a):\n",
    "    print(a,\" is pallindrome\")\n",
    "else:\n",
    "    print(a,\" is not pallindrome\")"
   ]
  },
  {
   "cell_type": "code",
   "execution_count": 1,
   "id": "211c5747",
   "metadata": {},
   "outputs": [
    {
     "name": "stdout",
     "output_type": "stream",
     "text": [
      "Enter the binary number : 100\n",
      "4\n"
     ]
    }
   ],
   "source": [
    "#Convert a binary number to its decimal equivalent\n",
    "bi=eval(input(\"Enter the binary number : \"))\n",
    "num=1\n",
    "i=0\n",
    "while(bi>0):\n",
    "    if(bi%10==1):\n",
    "        num=num*(2**i)\n",
    "    bi=bi//10\n",
    "    i=i+1\n",
    "print(num)"
   ]
  },
  {
   "cell_type": "code",
   "execution_count": 3,
   "id": "ffec7a75",
   "metadata": {},
   "outputs": [
    {
     "name": "stdout",
     "output_type": "stream",
     "text": [
      "Enter number : 3\n",
      "6\n"
     ]
    }
   ],
   "source": [
    "#Find the sum of first n natural numbers\n",
    "num=eval(input('Enter number : '))\n",
    "ans=0\n",
    "while(num>0):\n",
    "    ans=ans+num\n",
    "    num-=1\n",
    "print(ans)"
   ]
  },
  {
   "cell_type": "code",
   "execution_count": 4,
   "id": "ad5c7c96",
   "metadata": {},
   "outputs": [
    {
     "name": "stdout",
     "output_type": "stream",
     "text": [
      "Enter number : 123\n",
      "321\n"
     ]
    }
   ],
   "source": [
    "#Find the reverse of a number\n",
    "num=eval(input(\"Enter number : \"))\n",
    "a=0\n",
    "ans=0\n",
    "while(num>0):\n",
    "    a=num%10\n",
    "    num=num//10\n",
    "    ans=ans*10+a\n",
    "print(ans)"
   ]
  },
  {
   "cell_type": "code",
   "execution_count": 7,
   "id": "028f488e",
   "metadata": {},
   "outputs": [
    {
     "name": "stdout",
     "output_type": "stream",
     "text": [
      "Enter number : 4\n",
      "24\n"
     ]
    }
   ],
   "source": [
    "#Find the factorial of a given number\n",
    "num=eval(input(\"Enter number : \"))\n",
    "ans=1\n",
    "while(num>0):\n",
    "    ans=ans*num\n",
    "    num-=1\n",
    "print(ans)\n"
   ]
  },
  {
   "cell_type": "code",
   "execution_count": 1,
   "id": "b4089916",
   "metadata": {},
   "outputs": [
    {
     "name": "stdout",
     "output_type": "stream",
     "text": [
      "Enter number : 76\n",
      "Automorphic\n"
     ]
    }
   ],
   "source": [
    "#Check whether a number is Automorphic or not\n",
    "num=eval(input(\"Enter number : \"))\n",
    "b=num**2\n",
    "a=0\n",
    "count=0\n",
    "while(num>a):\n",
    "    c=b%10\n",
    "    b=b//10\n",
    "    a=c*10**count+a\n",
    "    count=count+1\n",
    "if(num==a):\n",
    "    print(\"Automorphic\")\n",
    "else:\n",
    "    print(\"Not Automorphic\")"
   ]
  },
  {
   "cell_type": "code",
   "execution_count": 1,
   "id": "4abe47ba",
   "metadata": {},
   "outputs": [
    {
     "name": "stdout",
     "output_type": "stream",
     "text": [
      "Enter number  : 10\n",
      "18\n"
     ]
    }
   ],
   "source": [
    "#1Find the sum of factors of a number\n",
    "num=eval(input(\"Enter number  : \"))\n",
    "a=1\n",
    "ans=0\n",
    "while(num>=a):\n",
    "    if(num%a==0):\n",
    "        ans=ans+a\n",
    "    a+=1\n",
    "print(ans)\n",
    "    "
   ]
  },
  {
   "cell_type": "code",
   "execution_count": 1,
   "id": "791dcd7c",
   "metadata": {},
   "outputs": [
    {
     "name": "stdout",
     "output_type": "stream",
     "text": [
      "Enter number 1 : 15\n",
      "Enter number 2 : 10\n",
      "5\n"
     ]
    }
   ],
   "source": [
    "#Compute the GCD of two numbers\n",
    "num1=eval(input(\"Enter number 1 : \"))\n",
    "num2=eval(input(\"Enter number 2 : \"))\n",
    "a=1\n",
    "ans=0\n",
    "while(num1>=a):\n",
    "    if(num1%a==0):\n",
    "        if(num2%a==0):\n",
    "            ans=a\n",
    "    a+=1\n",
    "print(ans)"
   ]
  },
  {
   "cell_type": "code",
   "execution_count": 1,
   "id": "2c145010",
   "metadata": {},
   "outputs": [
    {
     "name": "stdout",
     "output_type": "stream",
     "text": [
      "Enter number : 153\n",
      "Armstrong\n"
     ]
    }
   ],
   "source": [
    "#Check whether a number is Armstrong or not\n",
    "num=eval(input(\"Enter number : \"))\n",
    "b=len(str(num))\n",
    "a=0\n",
    "c=num\n",
    "ans=0\n",
    "while(num>0):\n",
    "    a=num%10\n",
    "    num=num//10\n",
    "    ans=ans+a**b\n",
    "if(ans==c):\n",
    "    print(\"Armstrong\")"
   ]
  },
  {
   "cell_type": "code",
   "execution_count": 1,
   "id": "9a2d1766",
   "metadata": {},
   "outputs": [
    {
     "name": "stdout",
     "output_type": "stream",
     "text": [
      "Enter number 1 : 2\n",
      "Enter number 2 : 3\n",
      "13\n"
     ]
    }
   ],
   "source": [
    " #Compute the squares of natural numbers between two numbers\n",
    "num1=eval(input(\"Enter number 1 : \"))\n",
    "num2=eval(input(\"Enter number 2 : \"))\n",
    "num=0\n",
    "for i in range(num1,num2+1):\n",
    "    num=num+i**2\n",
    "print(num)\n",
    "          "
   ]
  },
  {
   "cell_type": "code",
   "execution_count": 1,
   "id": "f297afe3",
   "metadata": {},
   "outputs": [
    {
     "name": "stdout",
     "output_type": "stream",
     "text": [
      "Enter number : 4\n",
      "-10\n"
     ]
    }
   ],
   "source": [
    "#Compute the sum upto series of 1-4+9-16\n",
    "num=eval(input(\"Enter number : \"))\n",
    "ans=1\n",
    "for i in range(2,num+1):\n",
    "    if(i%2==0):\n",
    "        ans=ans-i**2\n",
    "    else:\n",
    "        ans=ans+i**2\n",
    "print(ans)    \n",
    "    "
   ]
  },
  {
   "cell_type": "code",
   "execution_count": 2,
   "id": "acd2016d",
   "metadata": {},
   "outputs": [
    {
     "name": "stdout",
     "output_type": "stream",
     "text": [
      "Enter number : 2\n",
      "Enter power : 3\n",
      "14\n"
     ]
    }
   ],
   "source": [
    "#Compute x^n\n",
    "x=eval(input(\"Enter number : \"))\n",
    "n=eval(input(\"Enter power : \"))\n",
    "ans=0\n",
    "while(n>0):\n",
    "    ans=ans+x**n\n",
    "    n-=1\n",
    "print(ans)\n"
   ]
  },
  {
   "cell_type": "code",
   "execution_count": 3,
   "id": "3e1a0d1b",
   "metadata": {},
   "outputs": [
    {
     "name": "stdout",
     "output_type": "stream",
     "text": [
      "Enter number : 10\n",
      "1 2 3 5 8 13 21 34 55 89 "
     ]
    }
   ],
   "source": [
    "#Generate the fibonacci series\n",
    "num=eval(input(\"Enter number : \"))\n",
    "a=0\n",
    "b=1\n",
    "c=b  \n",
    "count=1\n",
    " \n",
    "while(count<=num):\n",
    "    print(c,end=\" \")\n",
    "    count += 1\n",
    "    a,b=b,c\n",
    "    c=a+b"
   ]
  },
  {
   "cell_type": "code",
   "execution_count": null,
   "id": "a42a87d4",
   "metadata": {},
   "outputs": [],
   "source": []
  }
 ],
 "metadata": {
  "kernelspec": {
   "display_name": "Python 3 (ipykernel)",
   "language": "python",
   "name": "python3"
  },
  "language_info": {
   "codemirror_mode": {
    "name": "ipython",
    "version": 3
   },
   "file_extension": ".py",
   "mimetype": "text/x-python",
   "name": "python",
   "nbconvert_exporter": "python",
   "pygments_lexer": "ipython3",
   "version": "3.11.5"
  }
 },
 "nbformat": 4,
 "nbformat_minor": 5
}
