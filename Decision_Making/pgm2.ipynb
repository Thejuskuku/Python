{
 "cells": [
  {
   "cell_type": "code",
   "execution_count": 1,
   "id": "877a6bd1",
   "metadata": {},
   "outputs": [
    {
     "name": "stdout",
     "output_type": "stream",
     "text": [
      "Enter number : 5\n",
      "Enter number : 8\n",
      "8  is the bigger number\n"
     ]
    }
   ],
   "source": [
    "#Find the largest among two numbers\n",
    "num1=eval(input(\"Enter number : \"))\n",
    "num2=eval(input(\"Enter number : \"))\n",
    "if(num1>num2):\n",
    "    print(num1,\" is the bigger number\")\n",
    "else:\n",
    "    print(num2,\" is the bigger number\")"
   ]
  },
  {
   "cell_type": "code",
   "execution_count": 2,
   "id": "b7fd78a9",
   "metadata": {},
   "outputs": [
    {
     "name": "stdout",
     "output_type": "stream",
     "text": [
      "Enter number : 78\n",
      "78  is even number\n"
     ]
    }
   ],
   "source": [
    "#Check if the number is odd or even\n",
    "num1=eval(input(\"Enter number : \"))\n",
    "if(num1%2==0):\n",
    "    print(num1,\" is even number\")\n",
    "else:\n",
    "    print(num1,\" is odd number\")"
   ]
  },
  {
   "cell_type": "code",
   "execution_count": 4,
   "id": "a6f55791",
   "metadata": {},
   "outputs": [
    {
     "name": "stdout",
     "output_type": "stream",
     "text": [
      "Enter number : 0\n",
      "0  is zero\n"
     ]
    }
   ],
   "source": [
    "#Check if a number is positive, negative or zero\n",
    "num1=eval(input(\"Enter number : \"))\n",
    "if(num1>0):\n",
    "    print(num1,\" is a positive number\")\n",
    "elif(num1<0):\n",
    "    print(num1,\" is a negative number\")\n",
    "else:\n",
    "    print(num1,\" is zero\")"
   ]
  },
  {
   "cell_type": "code",
   "execution_count": 6,
   "id": "de7893b0",
   "metadata": {},
   "outputs": [
    {
     "name": "stdout",
     "output_type": "stream",
     "text": [
      "Enter number : 23\n",
      "23  is two digit number\n"
     ]
    }
   ],
   "source": [
    "#Check if a number is two digit or not\n",
    "num1=eval(input(\"Enter number : \"))\n",
    "if(num1>=10 and num1<=99):\n",
    "                print(num1,\" is two digit number\")\n",
    "else:\n",
    "                print(num1,\" is not a two digit number\")"
   ]
  },
  {
   "cell_type": "code",
   "execution_count": 7,
   "id": "fac3c041",
   "metadata": {},
   "outputs": [
    {
     "name": "stdout",
     "output_type": "stream",
     "text": [
      "Enter coefficient of x^2 : 1\n",
      "Enter coefficient of x : 3\n",
      "Enter constant term : 2\n",
      "Two distinct real roots\n"
     ]
    }
   ],
   "source": [
    "#Nature of solution of quadratic equations\n",
    "a=eval(input(\"Enter coefficient of x^2 : \"))\n",
    "b=eval(input(\"Enter coefficient of x : \"))\n",
    "c=eval(input(\"Enter constant term : \"))\n",
    "dis=b**2-4*a*c\n",
    "if(dis>0):\n",
    "    print(\"Two distinct real roots\")\n",
    "elif(dis==0):\n",
    "    print(\"Two equal real roots\")\n",
    "else:\n",
    "    print(\"Imaginary roots\")"
   ]
  },
  {
   "cell_type": "code",
   "execution_count": 8,
   "id": "df3868b3",
   "metadata": {},
   "outputs": [
    {
     "name": "stdout",
     "output_type": "stream",
     "text": [
      "Enter number 1 : 3\n",
      "Enter number 2 : 4\n",
      "Enter number 3 : 5\n",
      "3  is the smallest number \n"
     ]
    }
   ],
   "source": [
    "#Find the smallest number among three Numbers\n",
    "num1=eval(input(\"Enter number 1 : \"))\n",
    "num2=eval(input(\"Enter number 2 : \"))\n",
    "num3=eval(input(\"Enter number 3 : \"))\n",
    "if(num1<num2 and num1<num3):\n",
    "    print(num1,\" is the smallest number \")\n",
    "elif(num2<num1 and num2<num3):\n",
    "    print(num2,\" is the smallest number \")\n",
    "else:\n",
    "    print(num3,\" is the smallest number \")"
   ]
  },
  {
   "cell_type": "code",
   "execution_count": 10,
   "id": "d3f89bb7",
   "metadata": {},
   "outputs": [
    {
     "name": "stdout",
     "output_type": "stream",
     "text": [
      "Enter number : 98\n",
      "8  is the smallest number\n"
     ]
    }
   ],
   "source": [
    "#Find the smallest number in a two digit number\n",
    "num1=eval(input(\"Enter number : \"))\n",
    "num=num1%10\n",
    "num1=num1//10\n",
    "if(num1>num):\n",
    "    print(num,\" is the smallest number\")\n",
    "else:\n",
    "    print(num1,\" is the smallest number\")"
   ]
  },
  {
   "cell_type": "code",
   "execution_count": 11,
   "id": "daeaa6e2",
   "metadata": {},
   "outputs": [
    {
     "name": "stdout",
     "output_type": "stream",
     "text": [
      "Enter number : 16\n",
      "Enter the number to be divided with : 4\n",
      "16  is divisible by  4\n"
     ]
    }
   ],
   "source": [
    "#Check whether a number divisible by another\n",
    "num1=eval(input(\"Enter number : \"))\n",
    "num2=eval(input(\"Enter the number to be divided with : \"))\n",
    "if(num1%num2==0):\n",
    "    print(num1,\" is divisible by \",num2)\n",
    "          "
   ]
  },
  {
   "cell_type": "code",
   "execution_count": 12,
   "id": "d53c9ce3",
   "metadata": {},
   "outputs": [
    {
     "name": "stdout",
     "output_type": "stream",
     "text": [
      "Enter the position : 5\n",
      "Enter the end point : 2\n",
      "3  : Distance\n"
     ]
    }
   ],
   "source": [
    "#Find the distance between two points on a number line\n",
    "pos1=eval(input(\"Enter the position : \"))\n",
    "pos2=eval(input(\"Enter the end point : \"))\n",
    "pos=pos2-pos1\n",
    "if(pos<0):\n",
    "    print(-(pos),\" : Distance\")\n",
    "else:\n",
    "    print(pos,\" : Distance\")"
   ]
  },
  {
   "cell_type": "code",
   "execution_count": 13,
   "id": "e7656c93",
   "metadata": {},
   "outputs": [
    {
     "name": "stdout",
     "output_type": "stream",
     "text": [
      "Enter year : 2004\n",
      "2004  is a leap year\n"
     ]
    }
   ],
   "source": [
    "#Check whether a year is leap year or not\n",
    "yr=eval(input(\"Enter year : \"))\n",
    "if(yr%4==0):\n",
    "    print(yr,\" is a leap year\")\n",
    "else:\n",
    "    print(yr,\" is not a leap year\")"
   ]
  },
  {
   "cell_type": "code",
   "execution_count": null,
   "id": "15a455b7",
   "metadata": {},
   "outputs": [],
   "source": []
  }
 ],
 "metadata": {
  "kernelspec": {
   "display_name": "Python 3 (ipykernel)",
   "language": "python",
   "name": "python3"
  },
  "language_info": {
   "codemirror_mode": {
    "name": "ipython",
    "version": 3
   },
   "file_extension": ".py",
   "mimetype": "text/x-python",
   "name": "python",
   "nbconvert_exporter": "python",
   "pygments_lexer": "ipython3",
   "version": "3.11.5"
  }
 },
 "nbformat": 4,
 "nbformat_minor": 5
}
