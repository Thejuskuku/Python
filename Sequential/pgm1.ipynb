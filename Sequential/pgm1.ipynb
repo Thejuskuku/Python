{
 "cells": [
  {
   "cell_type": "code",
   "execution_count": 2,
   "id": "ce1d5343",
   "metadata": {},
   "outputs": [
    {
     "name": "stdout",
     "output_type": "stream",
     "text": [
      "Enter number 1 : 5\n",
      "Enter number 2 : 3\n",
      "8\n"
     ]
    }
   ],
   "source": [
    "# Find the sum of two numbers\n",
    "a=int(input(\"Enter number 1 : \"))\n",
    "b=int(input(\"Enter number 2 : \"))\n",
    "sum=a+b\n",
    "print(sum)"
   ]
  },
  {
   "cell_type": "code",
   "execution_count": 8,
   "id": "ed832d1f",
   "metadata": {},
   "outputs": [
    {
     "name": "stdout",
     "output_type": "stream",
     "text": [
      "Enter side A : 3\n",
      "Enter side B : 4\n",
      "Enter side C : 5\n",
      "Perimeter is :  12\n",
      "Area is :  6.0\n"
     ]
    }
   ],
   "source": [
    "# Calculate the area and perimeter of triangle\n",
    "a=int(input(\"Enter side A : \"))\n",
    "b=int(input(\"Enter side B : \"))\n",
    "c=int(input(\"Enter side C : \"))\n",
    "peri=a+b+c\n",
    "print(\"Perimeter is : \",peri)\n",
    "s=int(peri/2)\n",
    "area=(s*(s-a)*(s-b)*(s-c))**(1/2)\n",
    "print(\"Area is : \",area)"
   ]
  },
  {
   "cell_type": "code",
   "execution_count": 9,
   "id": "2f7a44e7",
   "metadata": {},
   "outputs": [
    {
     "name": "stdout",
     "output_type": "stream",
     "text": [
      "Enter the radius : 7\n",
      "Area is :  154.0\n"
     ]
    }
   ],
   "source": [
    "# Calculate area of circle\n",
    "r=int(input(\"Enter the radius : \"))\n",
    "area=22/7*r*r\n",
    "print(\"Area is : \",area)"
   ]
  },
  {
   "cell_type": "code",
   "execution_count": 10,
   "id": "22e37f77",
   "metadata": {},
   "outputs": [
    {
     "name": "stdout",
     "output_type": "stream",
     "text": [
      "Enter number 1 : 1\n",
      "Enter number 2 : 2\n",
      "Enter number 3 : 3\n",
      "Sum is :  6\n",
      "Average is :  2.0\n"
     ]
    }
   ],
   "source": [
    "# Calculate the sum and average of three numbers\n",
    "a=int(input(\"Enter number 1 : \"))\n",
    "b=int(input(\"Enter number 2 : \"))\n",
    "c=int(input(\"Enter number 3 : \"))\n",
    "sum=a+b+c\n",
    "avg=sum/3\n",
    "print(\"Sum is : \",sum)\n",
    "print(\"Average is : \",avg)"
   ]
  },
  {
   "cell_type": "code",
   "execution_count": 13,
   "id": "c2a6cded",
   "metadata": {},
   "outputs": [
    {
     "name": "stdout",
     "output_type": "stream",
     "text": [
      "Enter the number of days : 365\n",
      "Years :  1.0  Month :  12\n"
     ]
    }
   ],
   "source": [
    "# Calculate the number of years, months and days from a given number of days\n",
    "num=int(input(\"Enter the number of days : \"))\n",
    "yr=num/365\n",
    "mon=num//30\n",
    "print(\"Years : \",yr,\" Month : \",mon)"
   ]
  },
  {
   "cell_type": "code",
   "execution_count": 14,
   "id": "ea796755",
   "metadata": {},
   "outputs": [
    {
     "name": "stdout",
     "output_type": "stream",
     "text": [
      "Enter the number of seconds : 3600\n",
      "Hour :  1.0  Minutes :  60\n"
     ]
    }
   ],
   "source": [
    "# Convert seconds to hour, minutes and seconds\n",
    "num=int(input(\"Enter the number of seconds : \"))\n",
    "hr=num/3600\n",
    "min=num//60\n",
    "print(\"Hour : \",hr,\" Minutes : \",min)"
   ]
  },
  {
   "cell_type": "code",
   "execution_count": 15,
   "id": "286cfe01",
   "metadata": {},
   "outputs": [
    {
     "name": "stdout",
     "output_type": "stream",
     "text": [
      "Enter number 1 : 100\n",
      "Enter number 2 : 10\n",
      "Sum is :  110  Difference is :  90  Product is :  1000  Quotient is :  10\n"
     ]
    }
   ],
   "source": [
    "# Calculate sum, difference, product and quotient of two numbers\n",
    "a=int(input(\"Enter number 1 : \"))\n",
    "b=int(input(\"Enter number 2 : \"))\n",
    "sum=a+b\n",
    "diff=a-b\n",
    "pro=a*b\n",
    "quo=a//b\n",
    "print(\"Sum is : \",sum,\" Difference is : \",diff,\" Product is : \",pro,\" Quotient is : \",quo)"
   ]
  },
  {
   "cell_type": "code",
   "execution_count": 2,
   "id": "0dd2e683",
   "metadata": {},
   "outputs": [
    {
     "name": "stdout",
     "output_type": "stream",
     "text": [
      "Enter the coefficient of x^2 : 1\n",
      "Enter the coefficient of x : 3\n",
      "Enter the constant : 2\n",
      "Roots are :  -1.0  and  -2.0\n"
     ]
    }
   ],
   "source": [
    "# Find the roots of quadratic equations\n",
    "a=int(input(\"Enter the coefficient of x^2 : \"))\n",
    "b=int(input(\"Enter the coefficient of x : \"))\n",
    "c=int(input(\"Enter the constant : \"))\n",
    "d=(b**2-4*a*c)**0.5\n",
    "root1=(-b+d)/(2*a)\n",
    "root2=(-b-d)/(2*a)\n",
    "print(\"Roots are : \",root1,\" and \",root2)"
   ]
  },
  {
   "cell_type": "code",
   "execution_count": 32,
   "id": "5abd3e16",
   "metadata": {},
   "outputs": [
    {
     "name": "stdout",
     "output_type": "stream",
     "text": [
      "Enter the total mark : 100\n",
      "Enter mark in subject 1 : 90\n",
      "Enter mark in subject 2 : 90\n",
      "Enter mark in subject 3 : 90\n",
      "Enter mark in subject 4 : 90\n",
      "Enter mark in subject 5 : 90\n",
      "Percentage is :  90.0\n"
     ]
    }
   ],
   "source": [
    "# Calculate the percentage of 5 subjects\n",
    "out=int(input(\"Enter the total mark : \"))\n",
    "num1=int(input(\"Enter mark in subject 1 : \"))\n",
    "num2=int(input(\"Enter mark in subject 2 : \"))\n",
    "num3=int(input(\"Enter mark in subject 3 : \"))\n",
    "num4=int(input(\"Enter mark in subject 4 : \"))\n",
    "num5=int(input(\"Enter mark in subject 5 : \"))\n",
    "sum=num1+num2+num3+num4+num5\n",
    "per=(sum/(out*5))*100\n",
    "print(\"Percentage is : \",per)\n"
   ]
  },
  {
   "cell_type": "markdown",
   "id": "de7cc0dd",
   "metadata": {},
   "source": []
  },
  {
   "cell_type": "code",
   "execution_count": 35,
   "id": "4b9724ff",
   "metadata": {},
   "outputs": [
    {
     "name": "stdout",
     "output_type": "stream",
     "text": [
      "Enter the temperature(Celsius) : 0\n",
      "32\n"
     ]
    }
   ],
   "source": [
    "# Convert Celsius to Faharenheit\n",
    "cel=int(input(\"Enter the temperature(Celsius) : \"))\n",
    "far=int((cel*(9/5))+32)\n",
    "print(far)"
   ]
  },
  {
   "cell_type": "code",
   "execution_count": null,
   "id": "2b56243b",
   "metadata": {},
   "outputs": [],
   "source": []
  },
  {
   "cell_type": "code",
   "execution_count": null,
   "id": "85ef0790",
   "metadata": {},
   "outputs": [],
   "source": []
  }
 ],
 "metadata": {
  "kernelspec": {
   "display_name": "Python 3 (ipykernel)",
   "language": "python",
   "name": "python3"
  },
  "language_info": {
   "codemirror_mode": {
    "name": "ipython",
    "version": 3
   },
   "file_extension": ".py",
   "mimetype": "text/x-python",
   "name": "python",
   "nbconvert_exporter": "python",
   "pygments_lexer": "ipython3",
   "version": "3.11.5"
  }
 },
 "nbformat": 4,
 "nbformat_minor": 5
}
